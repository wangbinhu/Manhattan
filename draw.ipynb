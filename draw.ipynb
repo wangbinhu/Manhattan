{
 "cells": [
  {
   "cell_type": "code",
   "execution_count": 1,
   "metadata": {
    "kernel": "SoS"
   },
   "outputs": [],
   "source": [
    "[draw_manhattan]\n",
    "output:f\"test.png\"\n",
    "R:expand=True\n",
    "    library(\"qqman\")\n",
    "    dataset <- read.csv(\"GAPIT.MLM.ADG.GWAS.Results1.csv\",sep = \",\")\n",
    "    png({_output:r})\n",
    "    manhattan(dataset,annotatePval = 0.05,col=c(\"#A4D3EE\",\"#DDA0DD\"))\n",
    "    dev.off()"
   ]
  },
  {
   "cell_type": "code",
   "execution_count": 2,
   "metadata": {
    "kernel": "SoS",
    "scrolled": true
   },
   "outputs": [
    {
     "name": "stdout",
     "output_type": "stream",
     "text": [
      "INFO: Running draw_manhattan: \r\n"
     ]
    },
    {
     "name": "stderr",
     "output_type": "stream",
     "text": [
      "'utf-8' codec can't decode byte 0xb2 in position 28: invalid start byte\n"
     ]
    }
   ],
   "source": [
    "!sos run draw.ipynb draw_manhattan"
   ]
  },
  {
   "cell_type": "code",
   "execution_count": 4,
   "metadata": {
    "kernel": "SoS"
   },
   "outputs": [
    {
     "name": "stdout",
     "output_type": "stream",
     "text": [
      "Available kernels:\n",
      "  sos        C:\\Users\\windows10\\AppData\\Roaming\\jupyter\\kernels\\sos\n",
      "  ir         C:\\ProgramData\\Anaconda3\\share\\jupyter\\kernels\\ir\n",
      "  python3    C:\\ProgramData\\Anaconda3\\share\\jupyter\\kernels\\python3\n"
     ]
    }
   ],
   "source": [
    "!jupyter kernelspec list"
   ]
  },
  {
   "cell_type": "code",
   "execution_count": null,
   "metadata": {
    "kernel": "SoS"
   },
   "outputs": [],
   "source": []
  }
 ],
 "metadata": {
  "kernelspec": {
   "display_name": "SoS",
   "language": "sos",
   "name": "sos"
  },
  "language_info": {
   "codemirror_mode": "sos",
   "file_extension": ".sos",
   "mimetype": "text/x-sos",
   "name": "sos",
   "nbconvert_exporter": "sos_notebook.converter.SoS_Exporter",
   "pygments_lexer": "sos"
  },
  "sos": {
   "kernels": [],
   "panel": {
    "displayed": true,
    "height": 0
   },
   "version": "0.17.4"
  }
 },
 "nbformat": 4,
 "nbformat_minor": 2
}
